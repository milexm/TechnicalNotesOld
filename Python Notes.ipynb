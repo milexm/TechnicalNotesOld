{
 "cells": [
  {
   "cell_type": "markdown",
   "metadata": {},
   "source": [
    "\n",
    "# Python Notes\n",
    "Python is an interpreted high-level programming language for general-purpose programming. Created by Guido van Rossum and first released in 1991, Python has a design philosophy that emphasizes code readability, notably using significant whitespace. It provides constructs that enable clear programming on both small and large scales.[27] In July 2018, Van Rossum stepped down as the leader in the language community after 30 years.\n",
    "\n",
    "Python features a dynamic type system and automatic memory management. It supports multiple programming paradigms, including object-oriented, imperative, functional and procedural, and has a large and comprehensive standard library.\n",
    "\n",
    "Python interpreters are available for many operating systems. [CPython](https://en.wikipedia.org/wiki/CPython), the reference implementation of Python, is open source software and has a community-based development model, as do nearly all of Python's other implementations. Python and CPython are managed by the non-profit [Python Software Foundation](https://en.wikipedia.org/wiki/Python_Software_Foundation).\n",
    "\n",
    "![monti python](images/montipython.png)\n"
   ]
  },
  {
   "cell_type": "markdown",
   "metadata": {},
   "source": [
    "## Setting Python Environment\n",
    "I have been struggling with this for a while, then it occured to me that you must decide if you want to work in a **learning** or in a **development** environment. The one you are looking now is a learning environment based on **Jupyter Notebooks**. Obviousely you can use the Notebooks any way you want, I use them for learning purposes. For more information, see [Jupyter Notebooks Notes.ipynb](../Jupyter/Jupyter%20Notebooks%20Notes.ipynb).\n",
    "\n",
    "### Installing Anaconda\n",
    "Indpendently from the enivironment you decide to operate in, you must install Python interpreter on your computer. \n",
    "Instead of installing a stand-alone interpreter, we suggest to install **Anaconda**.\n",
    "Anaconda is a free and open-source distribution of the Python and other programming languages for scientific computing (data science, machine learning applications, large-scale data processing, predictive analytics, etc.), that aims to simplify package management and deployment. \n",
    "- That said, let's install Conda following the instructions found at [Downloading conda](https://conda.io/docs/user-guide/install/download.html). <span class=\"blue\">Install Anaconda Navigator, not Miniconda.</span>  \n",
    "- I also signed for the [Anaconda Cloud](http://anaconda.org). Where packages, notebooks, projects and environments are shared.\n",
    "\n",
    "Please, see [conda-cheatsheet](conda-cheatsheet.pdf) and [Getting started with Conda](https://conda.io/docs/user-guide/getting-started.html).\n",
    "\n",
    "### Learning Environment - Running Jutpiter Notebook\n",
    "\n",
    "1. Activate the **Anaconda Navigator**. The following UI is displayed:\n",
    "![conda_nav](images/conda_nav.png) \n",
    "1. Click the **Launch** button in the Jupyter box.  \n",
    "The Jupyter Noteboook app will run on the local host on tha available port. \n",
    "For example [http://localhost:8892/tree](http://localhost:8892/tree).\n",
    "1. Select the Notebook.  \n",
    "\n",
    "<div class=\"info\">You can add your own custom style to Jupyter notebooks by creating a file called <b>custom.css</b> in the following directory: <i>/Users/user name/.jupyter/custom</i>.</div> \n",
    "\n",
    "The following are examples of custom style notes: <br/><br/>\n",
    "\n",
    "<div class=\"danger\">danger</div>\n",
    "<br/>\n",
    "<div class=\"success\">success</div>\n",
    "<br/>\n",
    "<div class=\"info\">info</div>\n",
    "<br/>\n",
    "<div class=\"warning\">warning</div>\n",
    "<br/>\n",
    "<div class=\"other\">other</div>\n",
    "<br/>\n",
    "\n",
    "For more information about custom styles, see \n",
    "[Make Your Jupyter Notebooks Cool](https://byte7.github.io/blog/Cool-Jupyter/).\n",
    "\n",
    "### Development Environment - Running Spyder\n",
    "1. Activate the **Anaconda Navigator**. \n",
    "1. Click the **Launch** button in the Spyder box. For more information, see [Spyder Documentation](https://docs.spyder-ide.org/overview.html). \n"
   ]
  },
  {
   "cell_type": "markdown",
   "metadata": {},
   "source": [
    "## Names, Namespaces, and Scope \n",
    "<span class=\"info\">Excerpts from [Python Namespace and Scope](https://www.programiz.com/python-programming/namespace)</span>.\n",
    "\n",
    "### Names\n",
    "In Python everything is an object that is associated with a name, which is used toi access the named object. The following example the assigment `a = 2` says that the **object** 2 is stored in memory and the object **name** is a. As you can see both the object and the name *points* to the same address. "
   ]
  },
  {
   "cell_type": "code",
   "execution_count": 4,
   "metadata": {},
   "outputs": [
    {
     "name": "stdout",
     "output_type": "stream",
     "text": [
      "id(2): 4345218144\n",
      "id(a): 4345218144\n"
     ]
    }
   ],
   "source": [
    "\"\"\"\n",
    "Get the RAM address of an object via the id() fucntion.\n",
    "\"\"\"\n",
    "a = 2\n",
    "\n",
    "# Display object RAM address\n",
    "address ='{0} {1}'.format('id(2):', id(2))\n",
    "print(address)\n",
    "\n",
    "# Display name RAM address\n",
    "address ='{0} {1}'.format('id(a):', id(a))\n",
    "print(address)"
   ]
  },
  {
   "cell_type": "markdown",
   "metadata": {},
   "source": [
    "Let's make the things a bit more interesting"
   ]
  },
  {
   "cell_type": "code",
   "execution_count": 8,
   "metadata": {},
   "outputs": [
    {
     "name": "stdout",
     "output_type": "stream",
     "text": [
      "Name a and object 2 address: 4345218144\n",
      "Name a and object 3 address: 4345218176\n",
      "Object 3 address: 4345218176\n",
      "Name b and object 2 address: 4345218144\n"
     ]
    }
   ],
   "source": [
    "\"\"\"\n",
    "Get the RAM address of an object via the id() fucntion.\n",
    "\"\"\"\n",
    "a = 2\n",
    "\n",
    "# Display name RAM address\n",
    "address ='{0} {1}'.format('Name a and object 2 address:', id(a))\n",
    "print(address)\n",
    "\n",
    "a = a+1\n",
    "\n",
    "# Display name RAM address\n",
    "address ='{0} {1}'.format('Name a and object 3 address:', id(a))\n",
    "print(address)\n",
    "\n",
    "# Display object RAM address\n",
    "address ='{0} {1}'.format('Object 3 address:', id(3))\n",
    "print(address)\n",
    "\n",
    "b = 2 \n",
    "\n",
    "# Display name RAM address\n",
    "address ='{0} {1}'.format('Name b and object 2 address:', id(b))\n",
    "print(address)"
   ]
  },
  {
   "cell_type": "markdown",
   "metadata": {},
   "source": [
    "This is what's happening:\n",
    "![obj_name.png](images/obj_name.png)"
   ]
  },
  {
   "cell_type": "markdown",
   "metadata": {},
   "source": [
    "As you can see the new name *b* is associated with the previous object *2* <span class=\"yellow\">without the need to duplicate the object</span>. While the name *a* is itself associated with a different object i.e., *3*. <span style=\"background-color:yellow\">Functions are objects as well</span> and they they can be associated with a name as shown next. "
   ]
  },
  {
   "cell_type": "code",
   "execution_count": 9,
   "metadata": {},
   "outputs": [
    {
     "name": "stdout",
     "output_type": "stream",
     "text": [
      "Hello\n"
     ]
    }
   ],
   "source": [
    "def printHello():\n",
    "    print(\"Hello\")     \n",
    "a = printHello()\n",
    "\n",
    "# Output: Hello\n",
    "a"
   ]
  },
  {
   "cell_type": "markdown",
   "metadata": {},
   "source": [
    "### Namespaces\n",
    "Simply put, <span class=\"blue\">a namespace is a collection of names</span>.\n",
    "You can imagine a namespace as a <span class=\"gray\">mapping of every name you have defined to corresponding objects</span>. Namespaces are isolated from each other and can coexisist. \n",
    "\n",
    "#### Scope\n",
    "A **scope** is the portion of the program from where a namespace can be accessed directly without any prefix. At any given time, there are at least three nested scopes.\n",
    "- Scope of the current function which has local names\n",
    "- Scope of the module which has global names\n",
    "- Outermost scope which has built-in names\n",
    "When a reference is made inside a function, the name is searched in the local namespace, then in the global namespace and finally in the built-in namespace.\n"
   ]
  },
  {
   "cell_type": "markdown",
   "metadata": {},
   "source": [
    "## Packages, Modules and Import\n",
    "The `import` statement search through the list of paths in `sys.pth`. Where `sys.path`always include the path of the script invoked on the command line and is indipendent of the working directory on the command line. Importing a package is conceptually the same as importing that package's `__init__.py` file (module). \n",
    "For more information, see [The Definitive Guide to Python import Statements](https://chrisyeh96.github.io/2017/08/08/definitive-guide-python-imports.html#example-directory-structure). \n",
    "\n",
    "### Definitions\n",
    "- **Module** is any `*.py` file. Its name is the file's name. \n",
    "- **Built-in Module** is a “module” (written in C) that is compiled into the Python interpreter, and therefore does not have a `*.py` file.\n",
    "- **Package** is a physical directory that contains modules, we can consider it as a namespace. In Python 2.7 and below, a directory is a package if contains `__init.py__`.  <span class=\"blue\">This is not necesary in Python 3.3 and above</span>.      \n",
    "- **Object** In Python, almost everything is an object such as functions, classes, variables and so on.\n",
    "\n",
    "### Packages\n",
    "Packages are directories of Python scripts. Each script is a **module**. Packages contain functions, methods, types. There are thousands of packages available such as: **numpy**, **matplotlib**, and so on. \n",
    "\n",
    "In order to import a module from a directory that is not in the same directory as the current module, <span class=\"blue\">the module to import must be in a package</span>.\n",
    "\n",
    "<span class=\"danger\">As defined above, any directory with a file named __init__.py is a Python package. This for Python 2.7 and below.</span> \n",
    "\n",
    "This does NOT apply to Python 3.3 and above, thanks to the adoption of implicit namespace packages. Basically, Python 3.3+ treats all folders as packages, so empty __init__.py files are no longer necessary and can be omitted.\n"
   ]
  },
  {
   "cell_type": "markdown",
   "metadata": {},
   "source": [
    "### Modules\n",
    "Python offers the same capabilities of other languages such as writing programs which contain several files for easier maintenance. You can also use a handy function without copying its definition into each program.\n",
    "\n",
    "To support this, <span class=\"yellow\">Python uses the concept of **module**</span>. The definitions from a module can be imported into other modules or into the main module.\n",
    "\n",
    "A module is a file containing Python definitions and statements. The <span class=\"yellow\">file name is the module name</span> with the suffix .py appended. Within a module, the module’s name (as a string) is available as the value of the <span class=\"yellow\">global variable __name__</span>. \n",
    "For example, let's create a project called **utilities**. <span class=\"yellow\">When you create the project, assure to create a new directory with the same name.</span> In the project, create a package called **mymath**. In the package folder create a module called **fibo.py** which calculate the Fibonacci sequence based on the passed number. The directory structure looks as folows:\n",
    "![utilities](images/utilities.png)\n",
    "To call a function defined in the fibo.py module from a different project, you must use `import` statements similar to the following:\n",
    "\n",
    "    import sys\n",
    "    sys.path.insert(0, '../utilities') \n",
    "    from mymath.fibo import fiboTriangle\n",
    "    \n",
    "Then you can make a function call such as: `fiboTriangle(5)`. Notice that **mymath** is a namespace, which is also a directory, under the utilities directory. \n"
   ]
  },
  {
   "cell_type": "markdown",
   "metadata": {},
   "source": [
    "### Install a Package\n",
    "To use a package in your code, you must first install it by performing these steps:\n",
    "1. In your borwser navigate to http://pip.readthedocs.org/en/stable/installing\n",
    "1. Download **get-pip.py*\n",
    "1. In your terminal execute these commands:\n",
    "\n",
    "    a. **python3 get-pip.py**\n",
    "    \n",
    "    b. To install numpy execute this command: **pip3 install numpy** \n",
    "    \n",
    "### Import a Package\n",
    "To use a package in your script you must import it. These are examples:\n",
    "\n",
    "\n",
    "- `import numpy`         Use: `numpy.array([1,2,3])`\n",
    "\n",
    "- `import numpy as np`   Use: `np.array([1,2,3])`\n",
    "\n",
    "- `import numpy array`   Use: `array([1,2,3])`\n",
    "\n",
    "\n",
    "#### General Import\n",
    "General imports, make all functionality from a package available in the script as in:\n",
    "\n",
    "`import math`\n",
    "\n",
    "Let's find the circumference, C, and area, A, of a circle. When the radius of the circle is r, you can calculate C and A as:\n",
    "    `C=2πr`\n",
    "    `A=πr2`\n",
    "To use the constant pi, you'll need the math package. "
   ]
  },
  {
   "cell_type": "code",
   "execution_count": 1,
   "metadata": {},
   "outputs": [
    {
     "name": "stdout",
     "output_type": "stream",
     "text": [
      "Circumference: 2.701769682087222\n",
      "Area: 0.5808804816487527\n"
     ]
    }
   ],
   "source": [
    "# Import the math package\n",
    "import math\n",
    "\n",
    "# Definition of radius\n",
    "r = 0.43\n",
    "\n",
    "# Calculate C\n",
    "C = 2*math.pi*r\n",
    "\n",
    "# Calculate A\n",
    "A = math.pi * r**2\n",
    "\n",
    "# Build printout\n",
    "circ = '{0} {1}'.format('Circumference:', str(C))\n",
    "print(circ)\n",
    "area = '{0} {1}'.format('Area:', str(A))\n",
    "print(area)"
   ]
  },
  {
   "cell_type": "markdown",
   "metadata": {},
   "source": [
    "#### Selective Import\n",
    "General imports, like import math, make all functionality from the math package available to you. However, if you decide to use only a specific part of a package, you can always make your import more selective such as:\n",
    "\n",
    "`from math import pi`\n",
    "\n",
    "Let's say the Moon's orbit around planet Earth is a perfect circle, with a radius r (in km) that is defined in the following script. Let's see how the selective import works."
   ]
  },
  {
   "cell_type": "code",
   "execution_count": 2,
   "metadata": {},
   "outputs": [
    {
     "name": "stdout",
     "output_type": "stream",
     "text": [
      "distance: 40317.10572106901\n"
     ]
    }
   ],
   "source": [
    "# Definition of radius\n",
    "r = 192500\n",
    "\n",
    "# Import radians function of math package\n",
    "from math import radians\n",
    "\n",
    "# Travel distance of Moon over 12 degrees. Store in dist.\n",
    "dist = r * radians(12)\n",
    "\n",
    "# Print out dist\n",
    "distance ='{0} {1}'.format('distance:', str(dist))\n",
    "print(distance)"
   ]
  },
  {
   "cell_type": "markdown",
   "metadata": {},
   "source": [
    "#### Different ways of importing\n",
    "There are several ways to import packages and modules into Python. Depending on the import call, you'll have to use different Python code.\n",
    "\n",
    "Suppose you want to use the function inv(), which is in the linalg subpackage of the scipy package. You want to be able to use this function as follows:\n",
    "\n",
    "`my_inv([[1,2], [3,4]])`\n",
    "\n",
    "The import statement you need in order to run the above code without error is:\n",
    "\n",
    "`from scipy.linalog import inv as my_inv`"
   ]
  },
  {
   "cell_type": "markdown",
   "metadata": {},
   "source": [
    "### Create a Project with Spyder IDE\n",
    "Let's assume that we want to create a **project** which will contain Python language syntax modules. <span class=\"yellow\">When you create the project, assure to create a new directory with the same name.</span> Each project can contain other folders, aka **packages**, which are logical units to import **modules** contained by the packages. \n",
    "1. Start **Spyder** IDE.\n",
    "1. In the *File explorer*, select the main folder where to store your projects, which is *Python* in the example. \n",
    "1. In the menu bars, select **Projects->New Project...**.\n",
    "![projectcreate](images/project_create.png)\n",
    "1. In the *Create new project* wizard, check **New directory** \n",
    "1. In the *Project name* box enter **language**.\n",
    "1. In the *Location* box select the path of the directory (Python in the example), where the project directory must reside.\n",
    "![projectcreate](images/project_create_dir.png)\n",
    "1. In the *File explorer*, right click on the *language* folder.\n",
    "1. In the drop-down menu, select **New->Package...**.\n",
    "![projectpackage](images/project_package.png).\n",
    "1. In the *Package name* box, enter **types**. This creates a subfolder with the same names in the *language* folder. \n",
    "1. Let's create another directory called utilities wich will contains subfolders (packages) with your own utilities. At the end you will have a structure as follows:\n",
    "![dir_structure](images/dir_structure.png)\n",
    "\n",
    "A folder, aka package, such as *types*, contains modules that can be imported by other modules in other projects. For instance if my module is in a package contained in a directory at the same level of the *language* directory, I can use statements similar to the following:\n",
    "\n",
    "        import sys\n",
    "        sys.path.insert(0, '../') /*Point to same level where the 2 projects are stored*/\n",
    "        from utilities.mymath.fibo import fiboTriangle \n"
   ]
  },
  {
   "cell_type": "markdown",
   "metadata": {},
   "source": [
    "## Python Language Examples\n",
    "Plesae, refer to:\n",
    "- [Strings](Python%20Language.ipynb#Strings). Sequence of Unicode characters. \n",
    "- [Lists](Python%20Language.ipynb#Lists). Ordered (indexable) sequence of items. \n",
    "- [Tuples](Python%20Language.ipynb#Tuples). Ordered (indexable) sequence of items same as list.The only difference is that tuples are immutable.\n",
    "- [Dictionary](Python%20Language.ipynb#Dictionary). Unordered collection of key-value pairs. \n",
    "- [Sets](Python%20Language.ipynb#Sets). Unordered collection of uniques items. \n"
   ]
  },
  {
   "cell_type": "markdown",
   "metadata": {},
   "source": [
    "## References\n",
    "\n",
    "- [Lorem Ipsum Generator](https://www.lipsum.com/feed/html)\n",
    "- [Python Cookbook](https://d.cxcore.net/Python/Python_Cookbook_3rd_Edition.pdf)\n",
    "- [Python Examples](https://www.programiz.com/python-programming/examples)\n",
    "- [Python 3.7.1 Documentation](https://docs.python.org/3/)\n",
    "- [Python Coding Guidelines](http://jaynes.colorado.edu/PythonGuidelines.html)\n",
    "- [Python Courses by DataCamp](https://www.datacamp.com/courses/tech:python/?utm_campaign=intro-to-python&utm_medium=pop-up&utm_source=campus)\n",
    "- [Conda](https://conda.io/docs/index.html)\n",
    "- [Conda Cheatsheet](conda-cheatsheet.pdf)\n",
    "- [All Python Courses](https://www.datacamp.com/courses/tech:python/?utm_campaign=intro-to-python&utm_medium=pop-up&utm_source=campus)\n",
    "- [Python Formatting](https://pyformat.info/)\n",
    "- [ActiveState Code Recipes](https://github.com/ActiveState)\n",
    "- [Mean Median Average](https://www.vocabulary.com/articles/chooseyourwords/mean-median-average/)\n",
    "\n",
    "\n"
   ]
  },
  {
   "cell_type": "code",
   "execution_count": null,
   "metadata": {},
   "outputs": [],
   "source": []
  }
 ],
 "metadata": {
  "kernelspec": {
   "display_name": "Python 3",
   "language": "python",
   "name": "python3"
  },
  "language_info": {
   "codemirror_mode": {
    "name": "ipython",
    "version": 3
   },
   "file_extension": ".py",
   "mimetype": "text/x-python",
   "name": "python",
   "nbconvert_exporter": "python",
   "pygments_lexer": "ipython3",
   "version": "3.7.0"
  }
 },
 "nbformat": 4,
 "nbformat_minor": 2
}
