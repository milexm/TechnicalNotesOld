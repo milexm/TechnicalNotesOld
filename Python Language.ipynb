{
 "cells": [
  {
   "attachments": {},
   "cell_type": "markdown",
   "metadata": {},
   "source": [
    "# Python Language <img src=\"images/python.png\" width=\"50px\" height=\"50px\" align=\"left\"/>\n",
    "<div class=\"success\">\n",
    "  <p><strong>Welcome to Python Language Notes</strong> What do you want to know?</p>\n",
    "</div>\n",
    "The examples shown next have been adapted from [Python course on Datacamp](https://campus.datacamp.com/courses/intro-to-python-for-data-science/). \n",
    "We provide ready to run Python examples based on the official documentation that you can fin at [Python 3.7.1 documentation](https://docs.python.org/3/).\n",
    "You can find Python settings at this location: [Python Notes](Python%20Notes.ipynb), let's start digging into the Python language. \n"
   ]
  },
  {
   "cell_type": "markdown",
   "metadata": {},
   "source": [
    "## Data Types\n",
    "Every value in Python has a datatype. Since everything is an object in Python programming, data types are actually classes and variables are instance (object) of these classes.\n",
    "\n",
    "There are various data types in Python. Some of the important types are described below.\n"
   ]
  },
  {
   "cell_type": "markdown",
   "metadata": {},
   "source": [
    "## Lists\n",
    "Python knows a number of compound data types, used to group together other values. The most versatile is the **list**, which is an ordered (each element is indexed) collection of <span class=\"yellow\">comma-separated values (items) between square brackets</span>. Lists might contain items of different types, but usually the items all have the same type. The following examples demonstrate how to use **lists**. \n"
   ]
  },
  {
   "cell_type": "markdown",
   "metadata": {},
   "source": [
    "### Create a List\n",
    "Create a list named *areas* that contains the area of the hallway (hall), kitchen (kit), living room (liv), bedroom (bed) and bathroom (bath), in this order. Use the predefined variables.\n",
    "Print areas with the print() function."
   ]
  },
  {
   "cell_type": "code",
   "execution_count": 2,
   "metadata": {},
   "outputs": [
    {
     "name": "stdout",
     "output_type": "stream",
     "text": [
      "[11.25, 18.0, 20.0, 10.75, 9.5]\n"
     ]
    }
   ],
   "source": [
    "# area variables (in square meters)\n",
    "hall = 11.25\n",
    "kit = 18.0\n",
    "liv = 20.0\n",
    "bed = 10.75\n",
    "bath = 9.50\n",
    "\n",
    "# Create list areas\n",
    "areas = [hall, kit, liv, bed, bath]\n",
    "\n",
    "# Print areas\n",
    "print(areas)"
   ]
  },
  {
   "cell_type": "markdown",
   "metadata": {},
   "source": [
    "### Create List with Different Types\n",
    "A list can contain any Python type. Although it's not really common, a list can also contain a mix of Python types including strings, floats, booleans, etc.\n",
    "Let's modify the previous code so we can have the names of the rooms and related areas. Pay attention here! For example, \"bathroom\" is a string, while bath is a variable that represents the float 9.50 you specified earlier."
   ]
  },
  {
   "cell_type": "code",
   "execution_count": 3,
   "metadata": {},
   "outputs": [
    {
     "name": "stdout",
     "output_type": "stream",
     "text": [
      "['hallway', 11.25, 'kitchen', 18.0, 'living room', 20.0, 'bedroom', 10.75, 'bathroom', 9.5]\n"
     ]
    }
   ],
   "source": [
    "# area variables (in square meters)\n",
    "hall = 11.25\n",
    "kit = 18.0\n",
    "liv = 20.0\n",
    "bed = 10.75\n",
    "bath = 9.50\n",
    "\n",
    "# Adapt list areas\n",
    "areas = [\"hallway\", hall, \"kitchen\", kit, \"living room\", liv, \"bedroom\", bed, \"bathroom\", bath]\n",
    "\n",
    "# Print areas\n",
    "print(areas)"
   ]
  },
  {
   "cell_type": "markdown",
   "metadata": {},
   "source": [
    "### List of lists\n",
    "You'll often be dealing with a lot of data, and it will make sense to group some of this data.\n",
    "Instead of creating a flat list containing strings and floats, representing the names and areas of the rooms in your house, you can create a list of lists. "
   ]
  },
  {
   "cell_type": "code",
   "execution_count": 4,
   "metadata": {},
   "outputs": [
    {
     "name": "stdout",
     "output_type": "stream",
     "text": [
      "[['hallway', 11.25], ['kitchen', 18.0], ['living room', 20.0], ['bedroom', 10.75], ['bathroom', 9.5]]\n",
      "<class 'list'>\n"
     ]
    }
   ],
   "source": [
    "# area variables (in square meters)\n",
    "hall = 11.25\n",
    "kit = 18.0\n",
    "liv = 20.0\n",
    "bed = 10.75\n",
    "bath = 9.50\n",
    "\n",
    "# house information as list of lists\n",
    "house = [[\"hallway\", hall],\n",
    "         [\"kitchen\", kit],\n",
    "         [\"living room\", liv],\n",
    "         [\"bedroom\", bed],\n",
    "         [\"bathroom\", bath]]\n",
    "\n",
    "# Print out house\n",
    "print(house)\n",
    "\n",
    "# Print out the type of house\n",
    "print(type(house))\n"
   ]
  },
  {
   "cell_type": "markdown",
   "metadata": {},
   "source": [
    "### Subset and Conquer\n",
    "Subsetting Python lists is a piece of cake. Take the code sample below, which creates a list x and then selects \"b\" from it. Remember that this is the second element, so it has index 1. You can also use negative indexing.\n",
    "\n",
    "    x = [\"a\", \"b\", \"c\", \"d\"]\n",
    "    x[1]\n",
    "    x[-3] # same result!\n",
    "\n",
    "Slicing can be best visualized by considering the index to be between the elements as shown below.\n",
    "![list_slicing](images/list_slicing.png). \n",
    "Remember the areas list from before, containing both strings and floats? Let's do some Python subsetting."
   ]
  },
  {
   "cell_type": "code",
   "execution_count": 5,
   "metadata": {},
   "outputs": [
    {
     "name": "stdout",
     "output_type": "stream",
     "text": [
      "11.25\n",
      "9.5\n",
      "20.0\n"
     ]
    }
   ],
   "source": [
    "# Create the areas list\n",
    "areas = [\"hallway\", 11.25, \"kitchen\", 18.0, \"living room\", 20.0, \"bedroom\", 10.75, \"bathroom\", 9.50]\n",
    "\n",
    "# Print out second element from areas\n",
    "print(areas[1])\n",
    "\n",
    "# Print out last element from areas\n",
    "print(areas[-1])\n",
    "\n",
    "# Print out the area of the living room\n",
    "print(areas[5])"
   ]
  },
  {
   "cell_type": "markdown",
   "metadata": {},
   "source": [
    "### Subset and Calculate\n",
    "After you've extracted values from a list, you can use them to perform additional calculations. Take this example, where the second and fourth element of a list x are extracted. The strings that result are pasted together using the + operator:\n",
    "\n",
    "    x = [\"a\", \"b\", \"c\", \"d\"]\n",
    "    print(x[1] + x[3])\n"
   ]
  },
  {
   "cell_type": "code",
   "execution_count": 2,
   "metadata": {},
   "outputs": [
    {
     "name": "stdout",
     "output_type": "stream",
     "text": [
      "28.75\n"
     ]
    }
   ],
   "source": [
    "# Create the areas list\n",
    "areas = [\"hallway\", 11.25, \"kitchen\", 18.0, \"living room\", 20.0, \"bedroom\", 10.75, \"bathroom\", 9.50]\n",
    "\n",
    "# Sum of kitchen and bedroom area: eat_sleep_area\n",
    "eat_sleep_area = areas[3] + areas[-3]\n",
    "\n",
    "# Print the variable eat_sleep_area\n",
    "print(eat_sleep_area)\n"
   ]
  },
  {
   "cell_type": "markdown",
   "metadata": {},
   "source": [
    "### Slicing and Dicing\n",
    "Selecting single values from a list is just one part of the story. It's also possible to slice your list, which means selecting multiple elements from your list. Use the following syntax:\n",
    "\n",
    "    my_list[start:end]\n",
    "The start index will be included, while the end index is not.\n",
    "\n",
    "The code sample below shows an example. A list with \"b\" and \"c\", corresponding to indeces 1 and 2, are selected from a list x:\n",
    "\n",
    "    x = [\"a\", \"b\", \"c\", \"d\"]\n",
    "    x[1:3]\n",
    "The elements with index 1 and 2 are included, while the element with index 3 is not.\n",
    "If you don't specify the begin index, Python figures out that you want to start your slice at the beginning of your list. If you don't specify the end index, the slice will go all the way to the last element of your list. "
   ]
  },
  {
   "cell_type": "code",
   "execution_count": 4,
   "metadata": {},
   "outputs": [
    {
     "name": "stdout",
     "output_type": "stream",
     "text": [
      "['hallway', 11.25, 'kitchen', 18.0, 'living room', 20.0]\n",
      "['bedroom', 10.75, 'bathroom', 9.5]\n"
     ]
    }
   ],
   "source": [
    "# Create the areas list\n",
    "areas = [\"hallway\", 11.25, \"kitchen\", 18.0, \"living room\", 20.0, \"bedroom\", 10.75, \"bathroom\", 9.50]\n",
    "\n",
    "# Use slicing to create downstairs\n",
    "downstairs = areas[:6]\n",
    "\n",
    "# Use slicing to create upstairs\n",
    "upstairs = areas[-4:]\n",
    "\n",
    "# Print out downstairs and upstairs\n",
    "print(downstairs)\n",
    "print(upstairs)"
   ]
  },
  {
   "cell_type": "markdown",
   "metadata": {},
   "source": [
    "### Subsetting Lists of Lists\n",
    "A Python list can contain practically anything; even other lists! To subset lists of lists, you can use the same technique as before: <span style=\"background-color:yellow\">square brackets</span>. Try out the commands in the following code sample. \n",
    "\n",
    "What will house[-1][1] return? house, the list of lists that you created before, is already defined for you in the workspace. You can experiment with it in the IPython Shell."
   ]
  },
  {
   "cell_type": "code",
   "execution_count": 11,
   "metadata": {},
   "outputs": [
    {
     "name": "stdout",
     "output_type": "stream",
     "text": [
      "['g', 'h', 'i']\n",
      "['g', 'h']\n",
      "g\n"
     ]
    }
   ],
   "source": [
    "# Define a list of lists\n",
    "x = [[\"a\", \"b\", \"c\"],\n",
    "    [\"d\", \"e\", \"f\"],\n",
    "    [\"g\", \"h\", \"i\"]]\n",
    "    \n",
    "# Get the last list\n",
    "print(x[2])\n",
    "\n",
    "# Get first and second element of last list\n",
    "print(x[2][:2])\n",
    "\n",
    "# Get the first element of the last list\n",
    "print(x[2][0])\n",
    " "
   ]
  },
  {
   "cell_type": "markdown",
   "metadata": {},
   "source": [
    "### Replace List Elements\n",
    "Replacing list elements is pretty easy. Simply subset the list and assign new values to the subset. You can select single elements or you can change entire list slices at once.\n"
   ]
  },
  {
   "cell_type": "code",
   "execution_count": 14,
   "metadata": {},
   "outputs": [
    {
     "name": "stdout",
     "output_type": "stream",
     "text": [
      "['a', 'b', 'c', 'd']\n",
      "['a', 'r', 'c', 'd']\n",
      "['a', 'r', 's', 't']\n",
      "['hallway', 11.25, 'kitchen', 18.0, 'living room', 20.0, 'bedroom', 10.75, 'bathroom', 9.5]\n",
      "['hallway', 11.25, 'kitchen', 18.0, 'chill zone', 20.0, 'bedroom', 10.75, 'bathroom', 10.5]\n"
     ]
    }
   ],
   "source": [
    "# Define list\n",
    "x = [\"a\", \"b\", \"c\", \"d\"]\n",
    "print(x)\n",
    "# Replace second element\n",
    "x[1] = \"r\"\n",
    "print(x)\n",
    "\n",
    "# Replace third and last elements\n",
    "x[2:] = [\"s\", \"t\"]\n",
    "print(x)\n",
    "\n",
    "# Another list\n",
    "areas = [\"hallway\", 11.25, \"kitchen\", 18.0, \n",
    "         \"living room\", 20.0, \"bedroom\", 10.75, \n",
    "         \"bathroom\", 9.50]\n",
    "print(areas)\n",
    "\n",
    "# Correct the bathroom area\n",
    "areas[9]=10.50\n",
    "\n",
    "# Change \"living room\" to \"chill zone\"\n",
    "areas[4]=\"chill zone\"\n",
    "print(areas)"
   ]
  },
  {
   "cell_type": "markdown",
   "metadata": {},
   "source": [
    "### Extend a List\n",
    "If you can change elements in a list, you sure want to be able to add elements to it, right? You can use the + operator. "
   ]
  },
  {
   "cell_type": "code",
   "execution_count": 15,
   "metadata": {},
   "outputs": [
    {
     "name": "stdout",
     "output_type": "stream",
     "text": [
      "['hallway', 11.25, 'kitchen', 18.0, 'chill zone', 20.0, 'bedroom', 10.75, 'bathroom', 10.5, 'poolhouse', 24.5]\n",
      "['hallway', 11.25, 'kitchen', 18.0, 'chill zone', 20.0, 'bedroom', 10.75, 'bathroom', 10.5, 'poolhouse', 24.5, 'garage', 15.45]\n"
     ]
    }
   ],
   "source": [
    "# Create the areas list and make some changes\n",
    "areas = [\"hallway\", 11.25, \"kitchen\", 18.0, \"chill zone\", 20.0,\n",
    "         \"bedroom\", 10.75, \"bathroom\", 10.50]\n",
    "\n",
    "# Add poolhouse data to areas, new list is areas_1\n",
    "areas_1 = areas + [\"poolhouse\", 24.5]\n",
    "print(areas_1) \n",
    "\n",
    "# Add garage data to areas_1, new list is areas_2\n",
    "areas_2 = areas_1 + [\"garage\", 15.45]\n",
    "print(areas_2)"
   ]
  },
  {
   "cell_type": "markdown",
   "metadata": {},
   "source": [
    "### Delete List Elements\n",
    "Finally, you can also remove elements from your list. You can do this with the del statement:\n",
    "\n",
    "    x = [\"a\", \"b\", \"c\", \"d\"]\n",
    "    del(x[1])\n",
    "\n",
    "Pay attention here: as soon as you remove an element from a list, the indeces of the elements that come after the deleted element all change!\n"
   ]
  },
  {
   "cell_type": "code",
   "execution_count": 1,
   "metadata": {
    "scrolled": true
   },
   "outputs": [
    {
     "name": "stdout",
     "output_type": "stream",
     "text": [
      "['hallway', 11.25, 'kitchen', 18.0, 'chill zone', 20.0, 'bedroom', 10.75, 'bathroom', 10.5, 'garage', 15.45]\n"
     ]
    }
   ],
   "source": [
    "# Create the areas list and make some changes\n",
    "areas = [\"hallway\", 11.25, \"kitchen\", 18.0, \"chill zone\", 20.0, \n",
    "         \"bedroom\", 10.75, \"bathroom\", 10.50, \"poolhouse\", 24.5,\n",
    "         \"garage\", 15.45]\n",
    "# Delete poohouse entries\n",
    "del(areas[-4:-2])\n",
    "\n",
    "print(areas)"
   ]
  },
  {
   "cell_type": "markdown",
   "metadata": {},
   "source": [
    "## Tuples\n",
    "Tuple is an ordered sequence of items same as list.The only difference is that <span class=\"yellow\">tuples are immutable</span>. Tuples once created cannot be modified.\n",
    "Tuples are <span class=\"yellow\">used to write-protect data and are usually faster than list beacuse they cannot change dynamically<span>.\n",
    "A tuple is <span class=\"yellow\">defined within parentheses () where items are separated by commas</span>."
   ]
  },
  {
   "cell_type": "code",
   "execution_count": null,
   "metadata": {},
   "outputs": [],
   "source": []
  },
  {
   "cell_type": "markdown",
   "metadata": {},
   "source": [
    "## Strings\n",
    "String is sequence of Unicode characters. We can <span class=\"yellow\">use single quotes or double quotes to define strings</span>. <span class=\"gray\">Multi-line strings can be denoted using triple quotes, ''' or \"\"\"</span>."
   ]
  },
  {
   "cell_type": "code",
   "execution_count": null,
   "metadata": {},
   "outputs": [],
   "source": []
  },
  {
   "cell_type": "markdown",
   "metadata": {},
   "source": [
    "## Sets\n",
    "A set is an unordered collection of unique items. Set is <span class=\"yellow\">defined by values separated by comma inside braces { }</span>. \n",
    "\n"
   ]
  },
  {
   "cell_type": "code",
   "execution_count": null,
   "metadata": {},
   "outputs": [],
   "source": []
  },
  {
   "cell_type": "markdown",
   "metadata": {},
   "source": [
    "## Dictionary\n",
    "Dictionary is an <span class=\"yellow\">unordered collection of **key-value pairs** </span>.\n",
    "Generally used to handle huge amount of data and optimized for retrieving data. <span class=\"blue\">You must know the key to retrieve a value</span>.\n",
    "Dictionaries are <span class=\"yellow\">defined using braces {} with each item being a pair in the form key:value</span>. Key and value can be of any type.\n",
    "\n"
   ]
  },
  {
   "cell_type": "code",
   "execution_count": 13,
   "metadata": {},
   "outputs": [
    {
     "name": "stdout",
     "output_type": "stream",
     "text": [
      "Create dictionary with direct key-value assignement: \n",
      " {'Colorado': 'Rockies', 'Boston': 'Red Sox', 'Minnesota': 'Twins', 'Milwaukee': 'Brewers', 'Seattle': 'Mariners'}\n"
     ]
    }
   ],
   "source": [
    "# Create a MLB (major League Baseball) dictionary \n",
    "MLB_teams = { \n",
    "    'Colorado' : 'Rockies',\n",
    "    'Boston'   : 'Red Sox',\n",
    "    'Minnesota': 'Twins',\n",
    "    'Milwaukee': 'Brewers',\n",
    "    'Seattle'  : 'Mariners'\n",
    "}\n",
    "msg = '{0} {1}'.format(\"Create dictionary with direct key-value assignement: \\n\", str(MLB_teams))\n",
    "print(msg)"
   ]
  },
  {
   "cell_type": "code",
   "execution_count": 15,
   "metadata": {},
   "outputs": [
    {
     "name": "stdout",
     "output_type": "stream",
     "text": [
      "Create dictionary using the 'dict' function and key-value pairs: \n",
      " {'Colorado': 'Rockies', 'Boston': 'Red Sox', 'Minnesota': 'Twins', 'Milwaukee': 'Brewers', 'Seattle': 'Mariners'}\n",
      "Create dictionary using the 'dict' function and list of key-value pairs: \n",
      " {'Colorado': 'Rockies', 'Boston': 'Red Sox', 'Minnesota': 'Twins', 'Milwaukee': 'Brewers', 'Seattle': 'Mariners'}\n"
     ]
    }
   ],
   "source": [
    "# Another way to define a dictionary\n",
    "MLB_teams = dict(\n",
    "    Colorado  = 'Rockies',\n",
    "    Boston    = 'Red Sox',\n",
    "    Minnesota = 'Twins',\n",
    "    Milwaukee = 'Brewers',\n",
    "    Seattle   = 'Mariners'\n",
    ")\n",
    "msg = '{0} {1}'.format(\"Create dictionary using the 'dict' function and key-value pairs: \\n\", str(MLB_teams))\n",
    "print(msg)\n",
    "\n",
    "# One more\n",
    "MLB_teams = dict([\n",
    "    ('Colorado','Rockies'),\n",
    "    ('Boston','Red Sox'),\n",
    "    ('Minnesota', 'Twins'),\n",
    "    ('Milwaukee', 'Brewers'),\n",
    "    ('Seattle', 'Mariners')\n",
    "])\n",
    "msg = '{0} {1}'.format(\"Create dictionary using the 'dict' function and list of key-value pairs: \\n\", str(MLB_teams))\n",
    "print(msg)"
   ]
  },
  {
   "cell_type": "markdown",
   "metadata": {},
   "source": [
    "### Access Dictionary Values\n",
    "To traverse a dictionary, normally by key, you can perform the following:"
   ]
  },
  {
   "cell_type": "code",
   "execution_count": 24,
   "metadata": {},
   "outputs": [
    {
     "name": "stdout",
     "output_type": "stream",
     "text": [
      "key:  Colorado value: Rockies\n",
      "key:  Boston value: Red Sox\n",
      "key:  Minnesota value: Twins\n",
      "key:  Milwaukee value: Brewers\n",
      "key:  Seattle value: Mariners\n"
     ]
    }
   ],
   "source": [
    "# Define the dictionary \n",
    "MLB_teams = dict([\n",
    "    ('Colorado','Rockies'),\n",
    "    ('Boston','Red Sox'),\n",
    "    ('Minnesota', 'Twins'),\n",
    "    ('Milwaukee', 'Brewers'),\n",
    "    ('Seattle', 'Mariners')\n",
    "])\n",
    "\n",
    "# Traverse the dictionary using the key\n",
    "for key in MLB_teams.keys():\n",
    "    value = MLB_teams[key]\n",
    "    msg = '{0} {1} {2} {3}'.format(\"key: \", key, 'value:', value) \n",
    "    print(msg)"
   ]
  },
  {
   "cell_type": "markdown",
   "metadata": {},
   "source": [
    "### Dictionary Methods\n",
    "The following is an overview of methods that apply to dictionaries."
   ]
  },
  {
   "cell_type": "code",
   "execution_count": 40,
   "metadata": {},
   "outputs": [
    {
     "name": "stdout",
     "output_type": "stream",
     "text": [
      "MLB_teams cleared using the 'clear' method: \n",
      " {}\n"
     ]
    }
   ],
   "source": [
    "# Define the dictionary \n",
    "MLB_teams = dict([\n",
    "    ('Colorado','Rockies'),\n",
    "    ('Boston','Red Sox'),\n",
    "    ('Minnesota', 'Twins'),\n",
    "    ('Milwaukee', 'Brewers'),\n",
    "    ('Seattle', 'Mariners')\n",
    "])\n",
    "# Clear the dictionary\n",
    "MLB_teams.clear()\n",
    "msg = '{0} {1}'.format(\"MLB_teams cleared using the 'clear' method: \\n\", str(MLB_teams))\n",
    "print(msg)"
   ]
  },
  {
   "cell_type": "code",
   "execution_count": 41,
   "metadata": {},
   "outputs": [
    {
     "name": "stdout",
     "output_type": "stream",
     "text": [
      "Get the value with 'Seattle' key using the 'get' method: \n",
      " Mariners\n"
     ]
    }
   ],
   "source": [
    "# Define the dictionary \n",
    "MLB_teams = dict([\n",
    "    ('Colorado','Rockies'),\n",
    "    ('Boston','Red Sox'),\n",
    "    ('Minnesota', 'Twins'),\n",
    "    ('Milwaukee', 'Brewers'),\n",
    "    ('Seattle', 'Mariners')\n",
    "])\n",
    "\n",
    "# Get a value with the specified key\n",
    "value = MLB_teams.get('Seattle')\n",
    "msg = '{0} {1}'.format(\"Get the value with 'Seattle' key using the 'get' method: \\n\", value)\n",
    "print(msg)"
   ]
  },
  {
   "cell_type": "code",
   "execution_count": 42,
   "metadata": {},
   "outputs": [
    {
     "name": "stdout",
     "output_type": "stream",
     "text": [
      "Get list of key-value pairs using the 'items' method: \n",
      " dict_items([('Colorado', 'Rockies'), ('Boston', 'Red Sox'), ('Minnesota', 'Twins'), ('Milwaukee', 'Brewers'), ('Seattle', 'Mariners')])\n",
      "Get the keys using the 'keys' method: \n",
      " dict_keys(['Colorado', 'Boston', 'Minnesota', 'Milwaukee', 'Seattle'])\n",
      "Get the values using the 'values' method: \n",
      " dict_values(['Rockies', 'Red Sox', 'Twins', 'Brewers', 'Mariners'])\n"
     ]
    }
   ],
   "source": [
    "# Define the dictionary \n",
    "MLB_teams = dict([\n",
    "    ('Colorado','Rockies'),\n",
    "    ('Boston','Red Sox'),\n",
    "    ('Minnesota', 'Twins'),\n",
    "    ('Milwaukee', 'Brewers'),\n",
    "    ('Seattle', 'Mariners')\n",
    "])\n",
    "\n",
    "# Get list of tuples of key-value pairs\n",
    "tuples = MLB_teams.items()\n",
    "msg = '{0} {1}'.format(\"Get list of key-value pairs using the 'items' method: \\n\", tuples)\n",
    "print(msg)\n",
    "\n",
    "# Get the keys\n",
    "keys = MLB_teams.keys()\n",
    "msg = '{0} {1}'.format(\"Get the keys using the 'keys' method: \\n\", keys)\n",
    "print(msg)\n",
    "\n",
    "# Get the values\n",
    "keys = MLB_teams.values()\n",
    "msg = '{0} {1}'.format(\"Get the values using the 'values' method: \\n\", keys)\n",
    "print(msg)"
   ]
  },
  {
   "cell_type": "code",
   "execution_count": null,
   "metadata": {},
   "outputs": [],
   "source": []
  },
  {
   "cell_type": "markdown",
   "metadata": {},
   "source": [
    "## Functions\n",
    "Python offers built-in functions to make your life easier. You already know two such functions: `print()` and `type()`. You've also used the functions `str(), int(), bool(), float()` to switch between data types. These are built-in functions as well.\n",
    "\n",
    "Calling a function is easy. To get the type of 3.0 and store the output as a new variable, result, you can use the following: `result = type(3.0)`\n",
    "Other examples are:"
   ]
  },
  {
   "cell_type": "code",
   "execution_count": 2,
   "metadata": {},
   "outputs": [
    {
     "name": "stdout",
     "output_type": "stream",
     "text": [
      "<class 'list'>\n",
      "4\n",
      "1\n"
     ]
    }
   ],
   "source": [
    "# Create variables var1 and var2\n",
    "var1 = [1, 2, 3, 4]\n",
    "var2 = True\n",
    "\n",
    "# Print out type of var1\n",
    "print(type(var1))\n",
    "\n",
    "# Print out length of var1\n",
    "print(len(var1))\n",
    "\n",
    "# Convert var2 to an integer: out2\n",
    "out2 = int(var2)\n",
    "print(out2)bb"
   ]
  },
  {
   "cell_type": "markdown",
   "metadata": {},
   "source": [
    "You can findout about a function using the help function as in `help(max)` or prefixing the function with a question mark as in `?max`.  "
   ]
  },
  {
   "cell_type": "code",
   "execution_count": 4,
   "metadata": {},
   "outputs": [
    {
     "name": "stdout",
     "output_type": "stream",
     "text": [
      "Help on built-in function max in module builtins:\n",
      "\n",
      "max(...)\n",
      "    max(iterable, *[, default=obj, key=func]) -> value\n",
      "    max(arg1, arg2, *args, *[, key=func]) -> value\n",
      "    \n",
      "    With a single iterable argument, return its biggest item. The\n",
      "    default keyword-only argument specifies an object to return if\n",
      "    the provided iterable is empty.\n",
      "    With two or more arguments, return the largest argument.\n",
      "\n"
     ]
    }
   ],
   "source": [
    "help(max)\n",
    "?str"
   ]
  },
  {
   "cell_type": "markdown",
   "metadata": {},
   "source": [
    "### Multiple Arguments\n",
    "Square brackets around a function argument, in the documentation, implies that the argument is optional. But Python also uses a different way to tell users about arguments being optional.\n",
    "Have a look at the documentation of sorted() by typing help(sorted) in the IPython Shell."
   ]
  },
  {
   "cell_type": "code",
   "execution_count": 7,
   "metadata": {},
   "outputs": [
    {
     "name": "stdout",
     "output_type": "stream",
     "text": [
      "Help on built-in function sorted in module builtins:\n",
      "\n",
      "sorted(iterable, /, *, key=None, reverse=False)\n",
      "    Return a new list containing all items from the iterable in ascending order.\n",
      "    \n",
      "    A custom key function can be supplied to customize the sort order, and the\n",
      "    reverse flag can be set to request the result in descending order.\n",
      "\n"
     ]
    }
   ],
   "source": [
    "help(sorted)"
   ]
  },
  {
   "cell_type": "markdown",
   "metadata": {},
   "source": [
    "As you can see sorted() takes three arguments: *iterable*, *key* and *reverse*. \n",
    "\n",
    "- key=None means that if you don't specify the key argument, it will be None. \n",
    "- reverse=False means that if you don't specify the reverse argument, it will be False.\n",
    "\n",
    "In the following exercise, you'll only have to specify iterable and reverse, not key. The first input you pass to sorted() will be matched to the iterable argument, but what about the second input? To tell Python you want to specify reverse without changing anything about key, you can use do the following: `full_sorted = sorted(full, reverse=True)`. "
   ]
  },
  {
   "cell_type": "code",
   "execution_count": 8,
   "metadata": {},
   "outputs": [
    {
     "name": "stdout",
     "output_type": "stream",
     "text": [
      "[20.0, 18.0, 11.25, 10.75, 9.5]\n"
     ]
    }
   ],
   "source": [
    "# Create lists first and second\n",
    "first = [11.25, 18.0, 20.0]\n",
    "second = [10.75, 9.50]\n",
    "\n",
    "# Paste together first and second: full\n",
    "full = first + second\n",
    "\n",
    "# Sort full in descending order: full_sorted\n",
    "full_sorted = sorted(full, reverse=True)\n",
    "\n",
    "# Print out full_sorted\n",
    "print(full_sorted)"
   ]
  },
  {
   "cell_type": "markdown",
   "metadata": {},
   "source": [
    "## Methods\n",
    "Methods are functions associated with an object, for examplle type `?list` in the Python shell to see the methods associated with the list object. \n",
    "\n",
    "### String Methods\n",
    "Strings provide a bunch of methods. Let's discover some of them. If you want to discover them in more detail, you can always type `help(str)` in the Python Shell."
   ]
  },
  {
   "cell_type": "code",
   "execution_count": 13,
   "metadata": {},
   "outputs": [
    {
     "name": "stdout",
     "output_type": "stream",
     "text": [
      "POOLHOUSE\n",
      "poolhouse\n",
      "3\n"
     ]
    }
   ],
   "source": [
    "# string to experiment with: place\n",
    "place = \"poolhouse\"\n",
    "\n",
    "# Use upper() on place: place_up\n",
    "place_up = place.upper()\n",
    "\n",
    "# Print out place and place_up\n",
    "print(place_up)\n",
    "print(place)\n",
    "\n",
    "# Print out the number of o's in place\n",
    "print(place.count('o'))"
   ]
  },
  {
   "cell_type": "markdown",
   "metadata": {},
   "source": [
    "### List Methods\n",
    "Strings are not the only Python types that have methods associated with them. Lists, floats, integers and booleans are also types that come packaged with a bunch of useful methods. In this exercise, you'll be experimenting with:\n",
    "\n",
    "- *index()*, to get the index of the first element of a list that matches its input and\n",
    "- *count()*, to get the number of times an element appears in a list.\n"
   ]
  },
  {
   "cell_type": "code",
   "execution_count": 14,
   "metadata": {},
   "outputs": [
    {
     "name": "stdout",
     "output_type": "stream",
     "text": [
      "2\n",
      "1\n"
     ]
    }
   ],
   "source": [
    "# Create list areas\n",
    "areas = [11.25, 18.0, 20.0, 10.75, 9.50]\n",
    "\n",
    "# Print out the index of the element 20.0\n",
    "index = areas.index(20.0)\n",
    "print(index)\n",
    "\n",
    "# Print out how often 9.50 appears in areas\n",
    "freq = areas.count(9.50)\n",
    "print (freq)"
   ]
  },
  {
   "cell_type": "markdown",
   "metadata": {},
   "source": [
    "<span class=\"danger\">Some methods can change the object to which they apply</span>. See the following examples."
   ]
  },
  {
   "cell_type": "code",
   "execution_count": 15,
   "metadata": {},
   "outputs": [
    {
     "name": "stdout",
     "output_type": "stream",
     "text": [
      "[11.25, 18.0, 20.0, 10.75, 9.5, 24.5, 15.45]\n",
      "[15.45, 24.5, 9.5, 10.75, 20.0, 18.0, 11.25]\n"
     ]
    }
   ],
   "source": [
    "# Create list areas\n",
    "areas = [11.25, 18.0, 20.0, 10.75, 9.50]\n",
    "\n",
    "# Use append twice to add poolhouse and garage size\n",
    "areas.append(24.5)\n",
    "areas.append(15.45)\n",
    "\n",
    "# Print out areas\n",
    "print(areas)\n",
    "\n",
    "# Reverse the orders of the elements in areas\n",
    "areas.reverse()\n",
    "\n",
    "# Print out areas\n",
    "print(areas)"
   ]
  },
  {
   "cell_type": "markdown",
   "metadata": {},
   "source": [
    "## Numeric Python - Numpy\n",
    "[NumPy](https://www.numpy.org/) is a library for the Python programming language, adding support for large, multi-dimensional arrays and matrices, along with a large collection of high-level mathematical functions to operate on these arrays. "
   ]
  },
  {
   "cell_type": "code",
   "execution_count": 23,
   "metadata": {},
   "outputs": [
    {
     "name": "stdout",
     "output_type": "stream",
     "text": [
      "<class 'numpy.ndarray'>\n"
     ]
    }
   ],
   "source": [
    "# Create list baseball\n",
    "baseball = [180, 215, 210, 210, 188, 176, 209, 200]\n",
    "\n",
    "# Import the numpy package as np\n",
    "import numpy as np\n",
    "\n",
    "# Create a numpy array from baseball: np_baseball\n",
    "np_baseball = np.array(baseball)\n",
    "\n",
    "# Print out type of np_baseball\n",
    "print(type(np_baseball))\n"
   ]
  },
  {
   "cell_type": "markdown",
   "metadata": {},
   "source": [
    "### Converting Baseball Players Height in Meters \n",
    "You are a huge baseball fan. You decide to call the MLB (Major League Baseball) and ask around for some more statistics on the height of the main players. They pass along data on more than a thousand players, which is stored as a regular Python list: height_in. The height is expressed in inches. Make a numpy array out of it and convert the units to meters?\n",
    "\n",
    "We used a very small subset of height_in available at [MLB Statistics](http://wiki.stat.ucla.edu/socr/index.php/SOCR_Data_MLB_HeightsWeights)."
   ]
  },
  {
   "cell_type": "code",
   "execution_count": 27,
   "metadata": {},
   "outputs": [
    {
     "name": "stdout",
     "output_type": "stream",
     "text": [
      "[74 74 72 72 73 69 69 71 76 71 73 73]\n",
      "[1.8796 1.8796 1.8288 1.8288 1.8542 1.7526 1.7526 1.8034 1.9304 1.8034\n",
      " 1.8542 1.8542]\n"
     ]
    }
   ],
   "source": [
    "# Players height in inches\n",
    "height_in=[74, 74, 72, 72, 73, 69, 69, 71, 76, 71, 73, 73] \n",
    "\n",
    "# Import numpy\n",
    "import numpy as np\n",
    "\n",
    "# Create a numpy array from height: np_height_in\n",
    "np_height_in = np.array(height_in)\n",
    "\n",
    "# Print out np_height\n",
    "print(np_height_in)\n",
    "\n",
    "# Convert np_height to m: np_height_m\n",
    "np_height_m = np_height_in * .0254\n",
    "  \n",
    "# Print out np_height\n",
    "print(np_height_m)    \n",
    "          "
   ]
  },
  {
   "cell_type": "markdown",
   "metadata": {},
   "source": [
    "### Calculate Baseball player's BMI\n",
    "The MLB also offers to let you analyze the players' weight data. Again, both are available as regular Python lists: height_in and weight. height_in is in inches and weight_lb is in pounds.\n",
    "\n",
    "It's now possible to calculate the BMI of each baseball player. Python code to convert height_in to a numpy array with the correct units is already available in the workspace. Follow the instructions step by step and finish the game!"
   ]
  },
  {
   "cell_type": "code",
   "execution_count": 32,
   "metadata": {},
   "outputs": [
    {
     "name": "stdout",
     "output_type": "stream",
     "text": [
      "[23.11037639 27.60406069 28.48080465 28.48080465 24.80333518 25.99036864\n",
      " 30.86356276 27.89402921 28.11789135 25.10462629 24.80333518 23.7478741 ]\n"
     ]
    }
   ],
   "source": [
    "# Players height in inches\n",
    "height_in=[74, 74, 72, 72, 73, 69, 69, 71, 76, 71, 73, 73] \n",
    "\n",
    "# Players weight in pounds\n",
    "weight_lb = [180, 215, 210, 210, 188, 176, 209, 200, 231, 180, 188, 180]\n",
    "\n",
    "# Import numpy\n",
    "import numpy as np\n",
    "\n",
    "# Create array from height_in with metric units: np_height_m\n",
    "np_height_m = np.array(height_in) * 0.0254\n",
    "\n",
    "# Create array from weight_lb with metric units: np_weight_kg\n",
    "np_weight_kg = np.array(weight_lb) * 0.453592\n",
    "\n",
    "# Calculate the BMI: bmi\n",
    "bmi = np_weight_kg/np_height_m**2\n",
    "\n",
    "# Print bmi\n",
    "print(bmi)\n"
   ]
  },
  {
   "cell_type": "markdown",
   "metadata": {},
   "source": [
    "### Search Light Weight Palyers\n",
    "Let's create a boolean numpy array where the element of the array should be True if the corresponding baseball player's BMI is below 21. You can use the < operator for this. Name the array light. The use this array to obtain all the BMIs below 21 contaid in the bmi array.\n"
   ]
  },
  {
   "cell_type": "code",
   "execution_count": 40,
   "metadata": {},
   "outputs": [
    {
     "name": "stdout",
     "output_type": "stream",
     "text": [
      "[23.11037639 27.60406069 28.48080465 28.48080465 24.80333518 25.99036864\n",
      " 30.86356276 27.89402921 28.11789135 25.10462629 24.80333518 23.7478741 ]\n",
      "[ True False False False  True False False False False False  True  True]\n",
      "[23.11037639 24.80333518 24.80333518 23.7478741 ]\n"
     ]
    }
   ],
   "source": [
    "# Players height in inches\n",
    "height_in=[74, 74, 72, 72, 73, 69, 69, 71, 76, 71, 73, 73] \n",
    "\n",
    "# Players weight in pounds\n",
    "weight_lb = [180, 215, 210, 210, 188, 176, 209, 200, 231, 180, 188, 180]\n",
    "\n",
    "# Import numpy\n",
    "import numpy as np\n",
    "\n",
    "# Create array from height_in with metric units: np_height_m\n",
    "np_height_m = np.array(height_in) * 0.0254\n",
    "\n",
    "# Create array from weight_lb with metric units: np_weight_kg\n",
    "np_weight_kg = np.array(weight_lb) * 0.453592\n",
    "\n",
    "# Calculate the BMI: bmi\n",
    "bmi = np_weight_kg/np_height_m**2\n",
    "\n",
    "# Print bmi array\n",
    "print(bmi)\n",
    "\n",
    "# Create the ligh array\n",
    "light = bmi < 25\n",
    "\n",
    "# Print light array\n",
    "print(light)\n",
    "\n",
    "# Print the BMIs below 25\n",
    "print(bmi[light])\n"
   ]
  },
  {
   "cell_type": "markdown",
   "metadata": {},
   "source": [
    "Subsetting NumPy Arrays\n",
    "You've seen it with your own eyes: Python lists and numpy arrays sometimes behave differently. Luckily, there are still certainties in this world. For example, subsetting (using the square bracket notation on lists or arrays) works exactly the same. To see this for yourself, try the following lines of code in the IPython Shell:\n",
    "\n",
    "`x = [\"a\", \"b\", \"c\"]`\n",
    "`x[1]`\n",
    "\n",
    "`np_x = np.array(x)`\n",
    "`np_x[1]`\n"
   ]
  },
  {
   "cell_type": "code",
   "execution_count": 45,
   "metadata": {},
   "outputs": [
    {
     "name": "stdout",
     "output_type": "stream",
     "text": [
      "188\n",
      "[210, 210, 188, 176, 209]\n"
     ]
    }
   ],
   "source": [
    "# Height and weight are available as a regular lists\n",
    "# Store weight and height lists as numpy arrays\n",
    "np_weight_lb = np.array(weight_lb)\n",
    "np_height_in = np.array(height_in)\n",
    "\n",
    "# Print out the weight at index 50\n",
    "print(np_weight_lb[10])\n",
    "\n",
    "# Print out sub-array of np_height: index 2 up to and including index 6\n",
    "print(weight_lb[2:7])\n"
   ]
  },
  {
   "cell_type": "markdown",
   "metadata": {},
   "source": [
    "### 2D NumPy Array\n",
    "A 2D numpy array is a list of lists, where each list represents a row in a rectangular matrix. And an element (cell) is located by two indeces: a row index and a column index [x,y].\n",
    "\n",
    "In the next exercise, baseball is a list of lists. The main list contains 4 sub-lists. Each of these sub-list is a contains the height and the weight of 4 baseball players."
   ]
  },
  {
   "cell_type": "code",
   "execution_count": 49,
   "metadata": {},
   "outputs": [
    {
     "name": "stdout",
     "output_type": "stream",
     "text": [
      "[[180.   78.4]\n",
      " [215.  102.7]\n",
      " [210.   98.5]\n",
      " [188.   75.2]]\n",
      "<class 'numpy.ndarray'>\n",
      "(4, 2)\n"
     ]
    }
   ],
   "source": [
    "# Import numpy\n",
    "import numpy as np\n",
    "\n",
    "# Create a baseball list of lists\n",
    "baseball = [[180, 78.4],\n",
    "            [215, 102.7],\n",
    "            [210, 98.5],\n",
    "            [188, 75.2]]\n",
    "\n",
    "# Create a 2D numpy array from baseball: np_baseball\n",
    "np_baseball = np.array(baseball)\n",
    "\n",
    "# Print np_baseball\n",
    "print(np_baseball)\n",
    "\n",
    "# Print the type of np_baseball\n",
    "print(type(np_baseball))\n",
    "\n",
    "# Print the shape of np_baseball\n",
    "print(np_baseball.shape)\n"
   ]
  },
  {
   "cell_type": "markdown",
   "metadata": {},
   "source": [
    "### Baseball Data in 2D Format\n",
    "It makes more sense to restructure all this information in a 2D numpy array. This array should have as many rows, as the baseball players you have information on, and 2 columns (for height and weight).\n",
    "In this list of lists, each sublist represents the height and weight of a single baseball player. \n",
    "Can you store the data as a 2D array to unlock numpy's extra functionality?"
   ]
  },
  {
   "cell_type": "code",
   "execution_count": 50,
   "metadata": {},
   "outputs": [
    {
     "name": "stdout",
     "output_type": "stream",
     "text": [
      "(12, 2)\n"
     ]
    }
   ],
   "source": [
    "# Import numpy\n",
    "import numpy as np\n",
    "\n",
    "# Create a baseball list of lists\n",
    "baseball = [[74, 180], [74, 215], [72, 210], [72, 210], [73, 188], [69, 176], \n",
    "            [71, 200], [76, 231], [71, 180], [73, 188], [73, 180], [74, 185]]\n",
    "\n",
    "# Create a 2D numpy array from baseball: np_baseball\n",
    "np_baseball = np.array(baseball)\n",
    "\n",
    "# Print the shape of np_baseball\n",
    "print(np_baseball.shape)"
   ]
  },
  {
   "cell_type": "markdown",
   "metadata": {},
   "source": [
    "### Subsetting 2D NumPy Arrays\n",
    "If your 2D numpy array has a regular structure, i.e. each row and column has a fixed number of values, complicated ways of subsetting become very easy. Have a look at the code below where the elements \"a\" and \"c\" are extracted from a list of lists.\n",
    "\n",
    "- Regular list of lists\n",
    "\n",
    "        x = [[\"a\", \"b\"], [\"c\", \"d\"]]\n",
    "        [x[0][0], x[1][0]]\n",
    "\n",
    "- Numpy\n",
    "\n",
    "        import numpy as np\n",
    "        np_x = np.array(x)\n",
    "        np_x[:,0]\n",
    "\n",
    "For regular Python lists, this is a real pain. For 2D numpy arrays, however, it's pretty intuitive! The indeces before the comma refer to the **rows**, while those after the comma refer to the **columns**. Colon **:** is for slicing; in this example, it tells Python to include all rows.\n"
   ]
  },
  {
   "cell_type": "code",
   "execution_count": 54,
   "metadata": {},
   "outputs": [
    {
     "name": "stdout",
     "output_type": "stream",
     "text": [
      "[ 69 176]\n",
      "[180 215 210 210 188 176 200 231 180 188 180 185]\n",
      "69\n"
     ]
    }
   ],
   "source": [
    "# Import numpy\n",
    "import numpy as np\n",
    "\n",
    "# Create a baseball list of lists\n",
    "baseball = [[74, 180], [74, 215], [72, 210], [72, 210], [73, 188], [69, 176], \n",
    "            [71, 200], [76, 231], [71, 180], [73, 188], [73, 180], [74, 185]]\n",
    "\n",
    "# Create a 2D numpy array from baseball: np_baseball\n",
    "np_baseball = np.array(baseball)\n",
    "\n",
    "\n",
    "# Print the 6th row of np_baseball\n",
    "print(np_baseball[5])\n",
    "\n",
    "# Select the entire second column of np_baseball: np_weight_lb\n",
    "np_weight_lb = np_baseball[:,b 1] \n",
    "print(np_weight_lb)\n",
    "\n",
    "# Print height of 6th player\n",
    "print(np_baseball[5,0])"
   ]
  },
  {
   "cell_type": "markdown",
   "metadata": {},
   "source": [
    "### 2D Arithmetic\n",
    "Remember how you calculated the Body Mass Index for all baseball players? numpy was able to perform all calculations element-wise (i.e. element by element). For 2D numpy arrays this isn't any different! You can combine matrices with single numbers, with vectors, and with other matrices.\n",
    "\n",
    "Execute the code below in the IPython shell and see if you understand:\n",
    "\n",
    "        import numpy as np\n",
    "        np_mat = np.array([[1, 2],\n",
    "                           [3, 4],\n",
    "                           [5, 6]])\n",
    "        np_mat * 2\n",
    "        np_mat + np.array([10, 10])\n",
    "        np_mat + np_mat\n",
    "        "
   ]
  },
  {
   "cell_type": "code",
   "execution_count": 61,
   "metadata": {},
   "outputs": [
    {
     "name": "stdout",
     "output_type": "stream",
     "text": [
      "[[ 75.2303559  168.83775102  23.99      ]\n",
      " [ 75.02614252 231.09732309  35.69      ]\n",
      " [ 73.1544228  215.08167641  31.78      ]\n",
      " [ 73.09349925 214.23890778  36.43      ]\n",
      " [ 73.82285669 170.21799965  36.71      ]\n",
      " [ 69.99484223 184.14402711  30.39      ]]\n",
      "[[ 1.8796   81.64656  22.99    ]\n",
      " [ 1.8796   97.52228  34.69    ]\n",
      " [ 1.8288   95.25432  30.78    ]\n",
      " [ 1.8288   95.25432  35.43    ]\n",
      " [ 1.8542   85.275296 35.71    ]\n",
      " [ 1.7526   79.832192 29.39    ]]\n"
     ]
    }
   ],
   "source": [
    "# Import numpy package\n",
    "import numpy as np\n",
    "\n",
    "# Create a baseball list of lists contaning height, \n",
    "# weight and age of the baseball players.\n",
    "baseball = [[74.0, 180.0, 22.99], [74.0, 215.0, 34.69], [72.0, 210.0, 30.78], \n",
    "            [72.0, 210.0, 35.43], [73.0, 188.0, 35.71], [69.0, 176.0, 29.39]]\n",
    "            \n",
    "# Create updated info list of lists contaning height, \n",
    "# weight and age changes of the baseball players.\n",
    "updated = [[  1.2303559,  -11.16224898,   1. ],\n",
    " [  1.02614252,  16.09732309,   1.        ],\n",
    " [  1.1544228,    5.08167641,   1.        ],\n",
    " [  1.09349925,   4.23890778,   1.        ],\n",
    " [  0.82285669, -17.78200035,   1.        ],\n",
    " [  0.99484223,   8.14402711,   1.        ]]\n",
    "\n",
    "# Create a baseball array\n",
    "np_baseball = np.array(baseball)\n",
    "\n",
    "# Add np_baseball and updated \n",
    "results = np_baseball + updated\n",
    "\n",
    "# Print the results\n",
    "print(results)\n",
    "\n",
    "# Create numpy array: conversion\n",
    "conversion = np.array([0.0254, 0.453592, 1])\n",
    "\n",
    "# Moltipy np_baseball and conversion\n",
    "results = b\n",
    "\n",
    "# Print the results\n",
    "print(results)"
   ]
  },
  {
   "cell_type": "markdown",
   "metadata": {},
   "source": [
    "### Data Statistics - Average vs Median\n",
    "You now know how to use numpy functions to get a better feeling for your data. It basically comes down to importing numpy and then calling several simple functions on the numpy arrays:\n",
    "\n",
    "        import numpy as np\n",
    "        x = [1, 4, 8, 10, 12]\n",
    "        np.mean(x)\n",
    "        np.median(x)\n",
    "\n",
    "The baseball data is available as a 2D numpy array with 3 columns (height, weight, age) and 2 rows. The name of this numpy array is np_baseball. After restructuring the data, however, you notice that some height values are abnormally high. Follow the instructions and discover which summary statistic is best suited if you're dealing with so-called outliers. \n",
    "<span style=\"background-color:lightblue\">Notice that the **mean** is the average, while the **median** is the middle point of a set of values.</span> "
   ]
  },
  {
   "cell_type": "code",
   "execution_count": 76,
   "metadata": {},
   "outputs": [
    {
     "name": "stdout",
     "output_type": "stream",
     "text": [
      "Average: 172.33333333333334\n",
      "Median: 74.0\n",
      "Deviation: 182.4907912440759\n",
      "Correlation: [[1.         0.34740086]\n",
      " [0.34740086 1.        ]]\n"
     ]
    }
   ],
   "source": [
    "# Import numpy package\n",
    "import numpy as np\n",
    "\n",
    "# Create a baseball list of lists contaning height, \n",
    "# weight and age of the baseball players.\n",
    "baseball = [[74.0, 180.0, 22.99], [74.0, 215.0, 34.69], [572.0, 210.0, 30.78], \n",
    "            [72.0, 210.0, 35.43], [173.0, 188.0, 35.71], [69.0, 176.0, 29.39]]\n",
    "\n",
    "# Create a baseball array\n",
    "np_baseball = np.array(baseball)\n",
    "            \n",
    "# Create np_height_in from np_baseball first column\n",
    "np_height_in = np_baseball[:,0]\n",
    "\n",
    "# Print the mean of np_height_in\n",
    "np_mean_height = np.mean(np_height_in)\n",
    "mean ='{0} {1}'.format('Average:', str(np_mean_height))\n",
    "print(mean)\n",
    "                       \n",
    "# Print the median of np_height_in\n",
    "np_median_height = np.median(np_height_in)\n",
    "median ='{0} {1}'.format('Median:', str(np_median_height))\n",
    "print(median)\n",
    "\n",
    "# Print standard deviation of np_height_in\n",
    "np_stdv_height = np.std(np_height_in)\n",
    "stdv ='{0} {1}'.format('Deviation:', str(np_stdv_height))\n",
    "print(stdv)\n",
    "\n",
    "# Print out correlation between first and second column. Replace 'None'\n",
    "np_corr_height_weight = np.corrcoef(np_baseball[:,0], np_baseball[:,1])\n",
    "corr ='{0} {1}'.format('Correlation:', str(np_corr_height_weight))\n",
    "print(corr)\n"
   ]
  },
  {
   "cell_type": "markdown",
   "metadata": {},
   "source": [
    "### Soccer Statistics\n",
    "In the last few exercises you've learned everything there is to know about heights and weights of baseball players. Now it's time to dive into another sport: soccer.\n",
    "\n",
    "You've contacted FIFA for some data and they handed you two lists. The lists are the following:\n",
    "\n",
    "        positions = ['GK', 'M', 'A', 'D', ...]\n",
    "        heights = [191, 184, 185, 180, ...]\n",
    "        \n",
    "Each element in the lists corresponds to a player. The first list, positions, contains strings representing each player's position. The possible positions are: 'GK' (goalkeeper), 'M' (midfield), 'A' (attack) and 'D' (defense). The second list, heights, contains integers representing the height of the player in cm. The first player in the lists is a goalkeeper and is pretty tall (191 cm).\n"
   ]
  },
  {
   "cell_type": "code",
   "execution_count": 79,
   "metadata": {},
   "outputs": [
    {
     "name": "stdout",
     "output_type": "stream",
     "text": [
      "Median height of goalkeepers: 189.0\n",
      "Median height of other players: 183.0\n"
     ]
    }
   ],
   "source": [
    "positions = ['GK', 'M', 'A', 'D', 'M', 'D', 'M', 'M', 'M', \n",
    "             'A', 'M', 'M', 'A', 'A', 'A', 'M', 'D', 'A', \n",
    "             'D', 'M', 'GK', 'D', 'D', 'M', 'M', 'M', 'M', \n",
    "             'D', 'M', 'GK', 'D', 'GK', 'D', 'D', 'M', 'A', \n",
    "             'M', 'D', 'M', 'GK', 'M', 'GK', 'A', 'D', 'GK', \n",
    "             'A', 'GK', 'GK', 'GK', 'GK', 'A', 'D', 'A', 'D', \n",
    "             'D', 'M', 'D', 'M', 'D', 'D', 'GK', 'GK', 'D', 'M', \n",
    "             'M', 'GK', 'M', 'D', 'M', 'M', 'D', 'D', 'M']\n",
    "\n",
    "heights = [191, 184, 185, 180, 181, 187, 170, 179, 183, 186, 185, \n",
    "           170, 187, 183, 173, 188, 183, 180, 188, 175, 193, 180, \n",
    "           185, 170, 183, 173, 185, 185, 168, 190, 178, 185, 185, \n",
    "           193, 183, 184, 178, 180, 177, 188, 177, 187, 186, 183, \n",
    "           189, 179, 196, 190, 189, 188, 188, 188, 182, 185, 184, \n",
    "           178, 185, 193, 188, 179, 189, 188, 180, 178, 186, 188, \n",
    "           180, 185, 172, 179, 180, 174, 183]\n",
    "\n",
    "# Import numpy\n",
    "import numpy as np\n",
    "\n",
    "# Convert positions and heights to numpy arrays: np_positions, np_heights\n",
    "np_positions = np.array(positions)\n",
    "np_heights = np.array(heights)\n",
    "\n",
    "# Heights of the goalkeepers: gk_heights\n",
    "gk_heights = np_heights[np_positions == 'GK']\n",
    "\n",
    "# Heights of the other players: other_heights\n",
    "other_heights = np_heights[np_positions != 'GK']\n",
    "\n",
    "# Print out the median height of goalkeepers. Replace 'None'\n",
    "np_gk_median_height = np.median(gk_heights)\n",
    "print(\"Median height of goalkeepers: \" + str(np_gk_median_height))\n",
    "\n",
    "# Print out the median height of other players. Replace 'None'\n",
    "np_other_median_height = np.median(other_heights)\n",
    "print(\"Median height of other players: \" + str(np_other_median_height))\n"
   ]
  },
  {
   "cell_type": "markdown",
   "metadata": {},
   "source": [
    "## References\n",
    "\n",
    "- [A lot of Examples - Python Central](https://www.pythoncentral.io/)\n",
    "- [Lorem Ipsum Generator](https://www.lipsum.com/feed/html)\n",
    "- [Python Cookbook](https://d.cxcore.net/Python/Python_Cookbook_3rd_Edition.pdf)\n",
    "- [Python Examples](https://www.programiz.com/python-programming/examples)\n",
    "- [Python 3.7.1 Documentation](https://docs.python.org/3/)\n",
    "- [Python Coding Guidelines](http://jaynes.colorado.edu/PythonGuidelines.html)\n",
    "- [Python Courses by DataCamp](https://www.datacamp.com/courses/tech:python/?utm_campaign=intro-to-python&utm_medium=pop-up&utm_source=campus)\n",
    "- [Conda](https://conda.io/docs/index.html)\n",
    "- [Conda Cheatsheet](conda-cheatsheet.pdf)\n",
    "- [All Python Courses](https://www.datacamp.com/courses/tech:python/?utm_campaign=intro-to-python&utm_medium=pop-up&utm_source=campus)\n",
    "- [Python Formatting](https://pyformat.info/)\n",
    "- [ActiveState Code Recipes](https://github.com/ActiveState)\n",
    "- [Mean Median Average](https://www.vocabulary.com/articles/chooseyourwords/mean-median-average/)\n",
    "- [Google Search on Python Examples](https://www.info.com/serp?sc=8zjIMswoPkfZwvrTUOoAD7i3lKWl4X_pWoVGzYhtJABbToZ0G-cnxIwOXeJ4nvnyO-ihmuXQ9v-t-9QqlQtaVdUfmo4hMSzCQs6z26FjVQz4HK5G3573k5OCKGEjmkTSsgPHvnPIJaFKwqZ1-hc-GKEpb_rGL4UTVCogsQoTKJV3R22M-fPSfgCGEfp6LHCFgkFyLbKy--_cGM8Gjs9bDyTEGbC9-pHWAA7OJ94JNxZqQX6BxtvuhQtirwhHWxv_9lGgiVgRsJmZMz_D0xm087LuW1RphTHXgU3VGSzMf6cdjujx-oDgH_0GbhaVPjtEvk0W7CAWsgq_5Zqpe4rVB0k0AYgQW0OSKYDIvNSBeLSNE0J1FGIRp5ACrkJuByfh6uh44sdNLUQHirLSXqshkPZ2zvjo3_FTlUobddbetRSciBaJUbT19HIu9_CDkIvn4I6Ozrykd9PRNUVqmnEqKwjO0LodOrWb465mQQDs2UiCngWp8eBrRDfUmSC5f_VXEQIvcrdHsEvRy70ACGyucqKb5-oRf1eYnlnQwOhX7m6wbA9L7QSH8Iik4IV6e-bzugouVYchfCAREDPQ0Gtove90avFoBakM-ROeBQcG0mUez-Pwk7lVt_PTAZ3rSrsMMGbVl_cwn_hrsFbv4MKkplXqpCwFbFT2TOPvhGY5GmJOyK4cbfD8l9R2o-Bl05YEy9WZyN5nsN8bRr1iVwHiG72GJsfThjlVCY2OvO-SybM9QfNTM51qRhjnx6LkMqjD0eomyHgQwQiCS3_YX_lbk1re0U1J-YFe_ybL8lMitm5Au_RJDg6RLBPoj706O6ZxMwMVLdxc4LOq7ZhxMGnvXUWkCMCNDDZVCfVcwBYRDQddR7JyFVtIzAZTTofbugrVPr2XPp3WxKR5GJR1_jRkOijHtYurLeTmpST3YC1NcU-zVpjIxqcfXSJmCxCzhHvHhJI1gvmg7ulwypB8Wo8De3lbZypxMYNG7Gw9Dz37379Nd16vB_2s-U6B1pkC9AShwhQJWgazLrFgt_rtNvc-Vxs51dlcoA_blzwhzjpDWPY42bNNu9OeVJCFanL8icw6QFHxWknlAlW8sMaUHwNYEdlIg-v0JQ4WztaAz-mYACrMMTCVldHIxhNouoMOJ-qSG7V-3Dy7hzA12USB0yB8ZW21Y4ijjF_6Skxbz_0AB5-hIBoksvKLfh9iEtPQY3DJf0Wc6yoLXKiScc7bNUk6AgkR_ZtSxwFP5G8ltWs6zlzI4chvr9IGp2rtQPv3NfSuyeveQK2wv6F7mIR1lnmx7mfqpbhJ363n2uZR7AYfGpIdQgwsTXjDjPyPM8d8R9MAYx5jdQPDVFfWJSNqHGJS1uD_UzrinDktKODZAZeZC-14sxRBZ0IxDVQJa72tgvZK9DNIRW4U9rypQ5p1w-KybWOxtH6CeqaPHQJ28QQJ5ecwJN043l2EExeU3lVZnx0FytjQCd9PcixRtVtC9CsmqBJ4pDWW8qm1KEAZU2FGUjDstrSAyl5ITG29wDVg4AwinwHpe65ywpt0FdHYD-Jk80FOtpcPb2UpZIB9Jt3qRR1CWzKjWwqlZL0vpIqYFpLQ_Dv2kUtBuX--_aHyGHBqkBf_XsAt7LemhN71un7n5o3ieyF-Zz0MYN4L9uAqMFCzhTw8D0qjV7rzkByiDKzMJ2P0CAOYbb1z1ib7F1Ttjk9PK9Nc3NzYZsLgm0kV7Fa35GHsSMwo5w0jTdNaB5gyKMm5-Npd1rQGevOUezaKQlBRFRL7nG4aFRdNd3_tq2tfORZ2OQ&page=1&q=python+programming+examples)\n",
    "\n",
    "\n"
   ]
  },
  {
   "cell_type": "code",
   "execution_count": null,
   "metadata": {
    "collapsed": true
   },
   "outputs": [],
   "source": []
  }
 ],
 "metadata": {
  "kernelspec": {
   "display_name": "Python 3",
   "language": "python",
   "name": "python3"
  },
  "language_info": {
   "codemirror_mode": {
    "name": "ipython",
    "version": 3
   },
   "file_extension": ".py",
   "mimetype": "text/x-python",
   "name": "python",
   "nbconvert_exporter": "python",
   "pygments_lexer": "ipython3",
   "version": "3.7.0"
  }
 },
 "nbformat": 4,
 "nbformat_minor": 2
}
